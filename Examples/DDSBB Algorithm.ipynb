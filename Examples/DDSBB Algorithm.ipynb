{
 "cells": [
  {
   "cell_type": "markdown",
   "metadata": {},
   "source": [
    "# $\\color{blue}{\\text{Data-driven Spatial Branch-and-bound }}$"
   ]
  },
  {
   "cell_type": "markdown",
   "metadata": {},
   "source": [
    "To install the pyDDSBB package, use the following.\n",
    "\n",
    "The code can be directly installed from github using the following command:\n",
    "\n",
    "    pip install git+git://github.com/DDPSE/PyDDSBB/\n",
    "    \n",
    "The package can be updated from github using the following command:\n",
    "\n",
    "    pip install update git+git://github.com/DDPSE/PyDDSBB/\n"
   ]
  },
  {
   "cell_type": "markdown",
   "metadata": {},
   "source": [
    "Below you can find the examples for :\n",
    "\n",
    "1. Box-constrained problem\n",
    "2. Black-box equation-constrained problem\n",
    "3. Grey-box equation-constrained problem\n"
   ]
  },
  {
   "cell_type": "code",
   "execution_count": 1,
   "metadata": {},
   "outputs": [],
   "source": [
    "import PyDDSBB  ## import the pyDDSBB package\n",
    "import numpy as np"
   ]
  },
  {
   "cell_type": "markdown",
   "metadata": {},
   "source": [
    "# $\\color{royalblue}{\\text{Box-constrained problem}}$ \n",
    "<br>$ min_\\mathbf{x} f(\\mathbf{x}) $ </br>\n",
    "<br>$ s.t.  \\mathbf{x_{lb}} \\le \\mathbf{x} \\le \\mathbf{x_{ub}} $ </br>\n",
    "<br>$ \\mathbf{x} \\in \\mathbf{R}^{N} $</br>\n",
    "\n",
    "### Example:\n",
    "<br>$ min_{x_1,x_2} 4x_1^2 + 2.1x_1^4+x_1^6/3+{x_1}{x_2}-4x_2^2+4x_2^4$ </br>\n",
    "<br>$ s.t.  -3 \\le x_1 \\le 3$ </br>\n",
    "<br>$       -2 \\le x_2 \\le 2$ </br>\n",
    "<br> solution: global optimum = -1.0316 at [-0.08984, 0.71265] and [0.08984, 0.71265] </br>"
   ]
  },
  {
   "cell_type": "code",
   "execution_count": 2,
   "metadata": {},
   "outputs": [],
   "source": [
    "def camel(x):\n",
    "    return float(4*x[0]**2 - 2.1*x[0]**4 + x[0]**6/3 + x[0]*x[1] - 4*x[1]**2+ 4*x[1]**4)"
   ]
  },
  {
   "cell_type": "markdown",
   "metadata": {},
   "source": [
    "### Step 1: Define the model "
   ]
  },
  {
   "cell_type": "code",
   "execution_count": 3,
   "metadata": {},
   "outputs": [
    {
     "name": "stdout",
     "output_type": "stream",
     "text": [
      "problem dimensionality : 2\n"
     ]
    }
   ],
   "source": [
    "model_bcp = PyDDSBB.DDSBBModel.Problem() ## Initialize the model\n",
    "model_bcp.add_objective(camel, sense = 'minimize') ##  add objective function, default: minimize\n",
    "model_bcp.add_variable(-3.,3.) ## add variabel bounds (must be float point)\n",
    "model_bcp.add_variable(-2.,2.)\n",
    "print('problem dimensionality : ' + str(model_bcp._dim))  ## Dimension is counted "
   ]
  },
  {
   "cell_type": "markdown",
   "metadata": {},
   "source": [
    "### Step 2: Specify the solver options\n",
    "\n",
    "Here are the options for the DDSBB solver:\n",
    "\n",
    "    multifidelity: bool  \n",
    "                   True to turn on multifidelity approach \n",
    "                   False to turn off multifidelity approach (default)\n",
    "                   \n",
    "    split_method: str\n",
    "                  Methods to determine split point on one dimension\n",
    "                  select from:\n",
    "                  For all types of problems:\n",
    "                        'equal_bisection' (default), 'golden_section' \n",
    "                  For constrained problems:\n",
    "                        'purity', 'gini'\n",
    "                        \n",
    "    variable_selection: str\n",
    "                  Methods to determine which dimension to be splitted on.\n",
    "                  select from: longest_side (default, for all problems), svr_var_select (for all problem)\n",
    "                               purity, gini (constrained problems)\n",
    "                               \n",
    "    underestimator_option: str\n",
    "                  Underestimator type \n",
    "                  Default: Quadratic\n",
    "                  \n",
    "    stop_option: dict\n",
    "                Stopping criteria \n",
    "                absolute_tolerance: float  (tolerance for gap between the lower and the upper bound)\n",
    "                relative_tolerance: float  (tolerance for relative gap between the lower and the upper bound)\n",
    "                                   = absolute_gap/|lower bound| if it is a minimization problem)\n",
    "                minimum_bound: float (minimum bound distance on the input space to avoid cutting the search space too small)\n",
    "                sampling_limit: int (maximum number of samples)\n",
    "                time_limit: float (maximum run time (s))\n",
    "                \n",
    "    sense: str\n",
    "           select from: minimize, maximize (inform the solver the direction of optimization)\n",
    "           \n",
    "    adaptive_sampling: function of level, dimension (method for adaptive sampling, can be a function of level, dimenion) "
   ]
  },
  {
   "cell_type": "markdown",
   "metadata": {},
   "source": [
    "### Step 3: optimize "
   ]
  },
  {
   "cell_type": "code",
   "execution_count": 4,
   "metadata": {},
   "outputs": [],
   "source": [
    "#initial number of samples = 23\n",
    "bcp_solver = PyDDSBB.DDSBB(23, underestimator_option = 'Quadratic',split_method = 'equal_bisection', \\\n",
    "                           variable_selection = 'longest_side', multifidelity = False, \\\n",
    "                           stop_option = {'absolute_tolerance': 0.05, 'relative_tolerance': 0.01, \\\n",
    "                                          'minimum_bound': 0.05, 'sampling_limit': 500, 'time_limit': 5000})"
   ]
  },
  {
   "cell_type": "code",
   "execution_count": 5,
   "metadata": {
    "scrolled": true
   },
   "outputs": [
    {
     "name": "stdout",
     "output_type": "stream",
     "text": [
      "absolute gap closed\n",
      "Time elapsed: 4.51s\n",
      "Current level: 8\n",
      "Current node: 48\n",
      "Number of samples used: 234\n",
      "Current best upper bound :  -1.030478500910937\n",
      "Current best lower bound :  -1.0413210796231074\n",
      "Current absolute gap:  0.010842578712170425\n",
      "Current best optimizer: [[-0.10366214  0.70637252]]\n",
      "yopt : -1.030478500910937\n",
      "xopt : [[-0.10366214  0.70637252]]\n"
     ]
    }
   ],
   "source": [
    "bcp_solver.optimize(model_bcp)\n",
    "bcp_solver.print_result()\n",
    "yopt_bcp = bcp_solver.get_optimum()  ### Get optimal solution \n",
    "xopt_bcp = bcp_solver.get_optimizer() ### Get optimizer\n",
    "print('yopt : ' + str(yopt_bcp))\n",
    "print('xopt : ' + str(xopt_bcp))"
   ]
  },
  {
   "cell_type": "markdown",
   "metadata": {},
   "source": [
    "### Step 4: resume the search with more samples\n",
    "    enlarge the total sampling limit to 1000"
   ]
  },
  {
   "cell_type": "code",
   "execution_count": 6,
   "metadata": {
    "scrolled": true
   },
   "outputs": [
    {
     "name": "stdout",
     "output_type": "stream",
     "text": [
      "Resume search with new resources\n",
      "absolute gap closed\n",
      "Time elapsed: 4.75s\n",
      "Current level: 9\n",
      "Current node: 50\n",
      "Number of samples used: 243\n",
      "Current best upper bound :  -1.0310785546195536\n",
      "Current best lower bound :  -1.033444818151406\n",
      "Current absolute gap:  0.0023662635318524305\n",
      "Current best optimizer: [[-0.08569434  0.72004867]]\n",
      "yopt : -1.0310785546195536\n",
      "xopt : [[-0.08569434  0.72004867]]\n"
     ]
    }
   ],
   "source": [
    "bcp_solver.resume({'sampling_limit': 1000})\n",
    "bcp_solver.print_result()\n",
    "yopt_bcp = bcp_solver.get_optimum()  ### Get optimal solution \n",
    "xopt_bcp = bcp_solver.get_optimizer() ### Get optimizer\n",
    "print('yopt : ' + str(yopt_bcp))\n",
    "print('xopt : ' + str(xopt_bcp))"
   ]
  },
  {
   "cell_type": "markdown",
   "metadata": {},
   "source": [
    "# $\\color{royalblue}{\\text{Black-box Equation-Constrained Problems}}$ \n",
    "<br>$ min_\\mathbf{x} f(\\mathbf{x}) $ </br>\n",
    "<br>$ s.t.  \\mathbf{x_{lb}} \\le \\mathbf{x} \\le \\mathbf{x_{ub}} $ </br>\n",
    "<br>$ g(\\mathbf{x}) \\le 0 $</br>  \n",
    "<br>$ \\mathbf{x} \\in \\mathbf{R}^{N} $</br>\n",
    "<br> $g(\\mathbf{x})$ is unknown </br>\n",
    "\n",
    "### Method:\n",
    "1. Samples are labelled as 1. (feasible) and 0. (infeasible)\n",
    "2. Node are pruned if it contains only infeasible samples or the local lower bound is higher than the global upper bound\n",
    "\n",
    "### Example:\n",
    "<br>$ min_{x_1,x_2} x_1 $ </br>\n",
    "<br>$ s.t. 0.25x_1-0.0625(x_1^2+x_2^2)+0.5x_2 \\le 1.0 $</br>\n",
    "<br>$ 0.071428(x_1^2+x_2^2) - 0.42857(x_1 + x_2) \\le -1.0$<br>\n",
    "<br>$ 1 \\le x_1 \\le 5.5$ </br>\n",
    "<br>$ 1 \\le x_2 \\le 5.5$ </br>\n",
    "<br> solution: global optimum = 1.177 at [1.1771, 2.1771] </br>"
   ]
  },
  {
   "cell_type": "code",
   "execution_count": 7,
   "metadata": {},
   "outputs": [],
   "source": [
    "def prob06(x):\n",
    "    return x[0]\n",
    "def prob06_cons(x):\n",
    "    if 0.25*x[0] - 0.0625*x[0]**2 - 0.0625*x[1]**2 + 0.5*x[1] <= 1.0 and 0.0714285714285714*x[0]**2 + 0.0714285714285714*x[1]**2 - 0.428571428571429*x[0] -0.428571428571429*x[1] <= -1.0:\n",
    "        return 1.\n",
    "    else:\n",
    "        return 0."
   ]
  },
  {
   "cell_type": "markdown",
   "metadata": {},
   "source": [
    "### Step 1: Define the model"
   ]
  },
  {
   "cell_type": "code",
   "execution_count": 8,
   "metadata": {},
   "outputs": [],
   "source": [
    "model_blk = PyDDSBB.DDSBBModel.Problem()\n",
    "model_blk.add_objective(prob06)\n",
    "model_blk.add_unknown_constraint(prob06_cons)\n",
    "model_blk.add_variable(1., 5.5)\n",
    "model_blk.add_variable(1., 5.5)"
   ]
  },
  {
   "cell_type": "markdown",
   "metadata": {},
   "source": [
    "### Step 2: Specify Solver"
   ]
  },
  {
   "cell_type": "code",
   "execution_count": 9,
   "metadata": {},
   "outputs": [],
   "source": [
    "blk_solver = PyDDSBB.DDSBB(23, split_method = 'equal_bisection',\n",
    "                           variable_selection = 'longest_side', multifidelity = False, \\\n",
    "                           stop_option = {'absolute_tolerance': 0.05, 'relative_tolerance': 0.01, \\\n",
    "                                          'minimum_bound': 0.05, 'sampling_limit': 500, 'time_limit': 5000})"
   ]
  },
  {
   "cell_type": "markdown",
   "metadata": {},
   "source": [
    "### Step 3: Optimize"
   ]
  },
  {
   "cell_type": "code",
   "execution_count": 10,
   "metadata": {},
   "outputs": [
    {
     "name": "stdout",
     "output_type": "stream",
     "text": [
      "absolute gap closed\n",
      "Time elapsed: 6.65s\n",
      "Current level: 13\n",
      "Current node: 80\n",
      "Number of samples used: 387\n",
      "Current best upper bound :  1.2109375\n",
      "Current best lower bound :  1.17578125\n",
      "Current absolute gap:  0.03515625\n",
      "Current best optimizer: [[1.2109375 2.125    ]]\n",
      "yopt : 1.2109375\n",
      "xopt : [[1.2109375 2.125    ]]\n"
     ]
    }
   ],
   "source": [
    "blk_solver.optimize(model_blk)\n",
    "blk_solver.print_result()\n",
    "yopt_blk = blk_solver.get_optimum()  ### Get optimal solution \n",
    "xopt_blk = blk_solver.get_optimizer() ### Get optimizer\n",
    "print('yopt : ' + str(yopt_blk))\n",
    "print('xopt : ' + str(xopt_blk))"
   ]
  },
  {
   "cell_type": "markdown",
   "metadata": {},
   "source": [
    "# $\\color{royalblue}{\\text{Grey-box Equation-Constrained Problem}}$ \n",
    "\n",
    "<br>$ min_\\mathbf{x} f(\\mathbf{x}) $ </br>\n",
    "<br>$ s.t.  \\mathbf{x_{lb}} \\le \\mathbf{x} \\le \\mathbf{x_{ub}} $ </br>\n",
    "<br>$ g(\\mathbf{x}) \\le 0 $</br>  \n",
    "<br>$ \\mathbf{x} \\in \\mathbf{R}^{N} $</br>\n",
    "<br> $g(\\mathbf{x})$ is fully known or partially known </br>\n",
    "\n",
    "### Methods:\n",
    "1. Samples are labelled as 1. (feasible) and 0. (infeasible)\n",
    "2. Feasibility-based bound tightening is implemented at root node to tighten the search space\n",
    "3. Constraint-violation minimization problem is solved to check if a node is feasible\n",
    "\n",
    "\n",
    "### Example:\n",
    "<br>$ min_{x_1,x_2} x_1 $ </br>\n",
    "<br>$ s.t. 0.25x_1-0.0625(x_1^2+x_2^2)+0.5x_2 \\le 1.0 $ (known)</br>\n",
    "<br>$ 0.071428(x_1^2+x_2^2) - 0.42857(x_1 + x_2) \\le -1.0$ (unknown)<br>\n",
    "<br>$ 1 \\le x_1 \\le 5.5$ </br>\n",
    "<br>$ 1 \\le x_2 \\le 5.5$ </br>\n",
    "<br> solution: global optimum = 1.177 at [1.1771, 2.1771] </br>"
   ]
  },
  {
   "cell_type": "markdown",
   "metadata": {},
   "source": [
    "### Step 1: Define the model"
   ]
  },
  {
   "cell_type": "code",
   "execution_count": 11,
   "metadata": {},
   "outputs": [],
   "source": [
    "model_gr = PyDDSBB.DDSBBModel.Problem()\n",
    "model_gr.add_objective(prob06)\n",
    "model_gr.add_unknown_constraint(prob06_cons)\n",
    "model_gr.add_known_constraint('0.25*x0 - 0.0625*x0**2 - 0.0625*x1**2 + 0.5*x1 <= 1.0')\n",
    "model_gr.add_variable(1., 5.5)\n",
    "model_gr.add_variable(1., 5.5)"
   ]
  },
  {
   "cell_type": "markdown",
   "metadata": {},
   "source": [
    "### Step 2: Specify the solver"
   ]
  },
  {
   "cell_type": "code",
   "execution_count": 12,
   "metadata": {},
   "outputs": [],
   "source": [
    "gr_solver = PyDDSBB.DDSBB(23, split_method = 'equal_bisection', \\\n",
    "                          variable_selection = 'longest_side', multifidelity = False, \\\n",
    "                          stop_option = {'absolute_tolerance': 0.05, 'relative_tolerance': 0.01, \\\n",
    "                                         'minimum_bound': 0.05, 'sampling_limit': 500, 'time_limit': 5000})"
   ]
  },
  {
   "cell_type": "markdown",
   "metadata": {},
   "source": [
    "### Step 3: Optimize"
   ]
  },
  {
   "cell_type": "code",
   "execution_count": 13,
   "metadata": {},
   "outputs": [
    {
     "name": "stdout",
     "output_type": "stream",
     "text": [
      "xlb after FBBT:  [1. 1.]\n",
      "xub after FBBT:  [5.5 5.5]\n",
      "absolute gap closed\n",
      "Time elapsed: 10.43s\n",
      "Current level: 13\n",
      "Current node: 70\n",
      "Number of samples used: 333\n",
      "Current best upper bound :  1.2109375\n",
      "Current best lower bound :  1.17578125\n",
      "Current absolute gap:  0.03515625\n",
      "Current best optimizer: [[1.2109375 2.125    ]]\n",
      "yopt : 1.2109375\n",
      "xopt : [[1.2109375 2.125    ]]\n"
     ]
    }
   ],
   "source": [
    "gr_solver.optimize(model_gr)\n",
    "gr_solver.print_result()\n",
    "yopt_gr = gr_solver.get_optimum()  ### Get optimal solution \n",
    "xopt_gr = gr_solver.get_optimizer() ### Get optimizer\n",
    "print('yopt : ' + str(yopt_gr))\n",
    "print('xopt : ' + str(xopt_gr))"
   ]
  },
  {
   "cell_type": "markdown",
   "metadata": {},
   "source": [
    "### Solve it as a glass-box problem "
   ]
  },
  {
   "cell_type": "code",
   "execution_count": 14,
   "metadata": {},
   "outputs": [],
   "source": [
    "model_gr.add_known_constraint('0.0714285714285714*x0**2 + 0.0714285714285714*x1**2 - 0.428571428571429*x0 -0.428571428571429*x1 <= -1.0')"
   ]
  },
  {
   "cell_type": "code",
   "execution_count": 15,
   "metadata": {},
   "outputs": [
    {
     "name": "stdout",
     "output_type": "stream",
     "text": [
      "xlb after FBBT:  [1.17712428 1.        ]\n",
      "xub after FBBT:  [5.00000003 4.82287572]\n",
      "absolute gap closed\n",
      "Time elapsed: 4.44s\n",
      "Current level: 9\n",
      "Current node: 30\n",
      "Number of samples used: 140\n",
      "Current best upper bound :  1.2082690406256973\n",
      "Current best lower bound :  1.1771242763412135\n",
      "Current absolute gap:  0.03114476428448376\n",
      "Current best optimizer: [[1.20826904 2.15041346]]\n",
      "yopt : 1.2082690406256973\n",
      "xopt : [[1.20826904 2.15041346]]\n"
     ]
    }
   ],
   "source": [
    "gr_solver = PyDDSBB.DDSBB(23, split_method = 'equal_bisection', \\\n",
    "                          variable_selection = 'longest_side', multifidelity = False, \\\n",
    "                          stop_option = {'absolute_tolerance': 0.05, 'relative_tolerance': 0.01, \n",
    "                                         'minimum_bound': 0.05, 'sampling_limit': 500, 'time_limit': 5000})\n",
    "gr_solver.optimize(model_gr)\n",
    "gr_solver.print_result()\n",
    "yopt_gr = gr_solver.get_optimum()  ### Get optimal solution \n",
    "xopt_gr = gr_solver.get_optimizer() ### Get optimizer\n",
    "print('yopt : ' + str(yopt_gr))\n",
    "print('xopt : ' + str(xopt_gr))"
   ]
  },
  {
   "cell_type": "markdown",
   "metadata": {},
   "source": [
    "# $\\color{steelblue}{\\text{Accessible Information}}$ "
   ]
  },
  {
   "cell_type": "code",
   "execution_count": 16,
   "metadata": {},
   "outputs": [],
   "source": [
    "import matplotlib.pyplot as plt"
   ]
  },
  {
   "cell_type": "code",
   "execution_count": 17,
   "metadata": {},
   "outputs": [
    {
     "name": "stdout",
     "output_type": "stream",
     "text": [
      "Node level:   0\n",
      "Node number:  0\n",
      "Local upper bound:  -0.6613868163165602\n",
      "Local lower bound:  -49.50474635158223\n",
      "Local gap: 48.84335953526567\n",
      "Node active\n"
     ]
    }
   ],
   "source": [
    "## Access Tree \n",
    "bcp_solver.Tree[0][0].print_node()"
   ]
  },
  {
   "cell_type": "code",
   "execution_count": 18,
   "metadata": {},
   "outputs": [
    {
     "data": {
      "image/png": "[encoded data removed]",
      "text/plain": [
       "<Figure size 1080x576 with 1 Axes>"
      ]
     },
     "metadata": {
      "needs_background": "light"
     },
     "output_type": "display_data"
    }
   ],
   "source": [
    "## Lowerbound and upperbound\n",
    "plt.rc('axes', linewidth=2)\n",
    "fig = plt.figure(figsize=(15,8))\n",
    "ax = fig.add_subplot(1, 1, 1 )\n",
    "ax.scatter(range(len(blk_solver._lowerbound_hist)), blk_solver._lowerbound_hist)\n",
    "ax.scatter(range(len(blk_solver._upperbound_hist)), blk_solver._upperbound_hist)\n",
    "ax.set_xlabel('level', fontsize = 16)\n",
    "ax.set_ylabel('f(x)', fontsize = 16)\n",
    "ax.legend(['lowebound','upperbound'], fontsize = 14)\n",
    "ax.xaxis.set_tick_params(labelsize=15)\n",
    "ax.yaxis.set_tick_params(labelsize=15)"
   ]
  },
  {
   "cell_type": "code",
   "execution_count": 19,
   "metadata": {},
   "outputs": [
    {
     "data": {
      "image/png": "[encoded data removed]",
      "text/plain": [
       "<Figure size 1080x720 with 1 Axes>"
      ]
     },
     "metadata": {
      "needs_background": "light"
     },
     "output_type": "display_data"
    }
   ],
   "source": [
    "## Visualize the branch-and-bound process\n",
    "plt.rc('axes', linewidth=2)\n",
    "fig = plt.figure(figsize=(15,10))\n",
    "ax2 = fig.add_subplot(1, 1, 1 )\n",
    "for level in blk_solver.Tree.keys():               \n",
    "    for node in blk_solver.Tree[level].values():\n",
    "        shade1=np.arange(node.bounds[0,0], node.bounds[1,0],0.001)                    \n",
    "        ax2.fill_between(shade1,node.bounds[1,1],node.bounds[0,1],facecolor=(str(1-level/(level+5))),edgecolors='w')  \n",
    "        color = list(map(lambda x : 'red' if x == 0 else 'blue', node.label))\n",
    "        ax2.scatter(node.x[:, 0 ], node.x[:, 1], s = 5, c = color)\n",
    "for xopt in blk_solver._xopt_hist:\n",
    "    try:\n",
    "        ax2.scatter(xopt[0], xopt[1], s = 15, c = 'lightgreen')\n",
    "    except:\n",
    "        ax2.scatter(xopt[0, 0], xopt[0, 1], s = 15, c = 'lightgreen')\n",
    "ax2.scatter(1.1771, 2.1771, s = 15, c = 'yellow')\n",
    "ax2.set_xlabel('$x_1$', fontsize = 16)\n",
    "ax2.set_ylabel('$x_2$', fontsize = 16)\n",
    "ax2.xaxis.set_tick_params(labelsize=15)\n",
    "ax2.yaxis.set_tick_params(labelsize=15)"
   ]
  },
  {
   "cell_type": "code",
   "execution_count": 20,
   "metadata": {},
   "outputs": [
    {
     "data": {
      "image/png": "[encoded data removed]",
      "text/plain": [
       "<Figure size 1080x720 with 1 Axes>"
      ]
     },
     "metadata": {
      "needs_background": "light"
     },
     "output_type": "display_data"
    }
   ],
   "source": [
    "plt.rc('axes', linewidth=2)\n",
    "fig = plt.figure(figsize=(15,10))\n",
    "ax3 = fig.add_subplot(1, 1, 1 )\n",
    "for level in gr_solver.Tree.keys():               \n",
    "    for node in gr_solver.Tree[level].values():\n",
    "        shade1=np.arange(node.bounds[0,0], node.bounds[1,0],0.001)                    \n",
    "        ax3.fill_between(shade1,node.bounds[1,1],node.bounds[0,1],facecolor=(str(1-level/(level+5))),edgecolors='w')  \n",
    "        color = list(map(lambda x : 'red' if x == 0 else 'blue', node.label))\n",
    "        ax3.scatter(node.x[:, 0 ], node.x[:, 1], s = 5, c = color)\n",
    "for xopt in gr_solver._xopt_hist:\n",
    "    try:\n",
    "        ax3.scatter(xopt[0], xopt[1], s = 15, c = 'lightgreen')\n",
    "    except:\n",
    "        ax3.scatter(xopt[0, 0], xopt[0, 1], s = 15, c = 'lightgreen')\n",
    "ax3.scatter(1.1771, 2.1771, s = 15, c = 'yellow')\n",
    "ax3.set_xlabel('$x_1$', fontsize = 16)\n",
    "ax3.set_ylabel('$x_2$', fontsize = 16)\n",
    "ax3.xaxis.set_tick_params(labelsize=15)\n",
    "ax3.yaxis.set_tick_params(labelsize=15)"
   ]
  },
  {
   "cell_type": "code",
   "execution_count": null,
   "metadata": {},
   "outputs": [],
   "source": []
  }
 ],
 "metadata": {
  "kernelspec": {
   "display_name": "Python 3",
   "language": "python",
   "name": "python3"
  },
  "language_info": {
   "codemirror_mode": {
    "name": "ipython",
    "version": 3
   },
   "file_extension": ".py",
   "mimetype": "text/x-python",
   "name": "python",
   "nbconvert_exporter": "python",
   "pygments_lexer": "ipython3",
   "version": "3.8.8"
  }
 },
 "nbformat": 4,
 "nbformat_minor": 2
}
